{
 "cells": [
  {
   "cell_type": "markdown",
   "metadata": {
    "collapsed": true
   },
   "source": [
    "# Machine Learning"
   ]
  },
  {
   "cell_type": "markdown",
   "metadata": {},
   "source": [
    "* Link para os modulos de machine learning: [SciKit Learn](http://scikit-learn.org/stable/)\n",
    "* Curso Machine Learning Andrew Ng: [Coursera](https://www.coursera.org/learn/machine-learning)\n",
    "* Curso Data Analysis Jose Portilla: [Udemy](https://www.udemy.com/learning-python-for-data-analysis-and-visualization/learn/v4/t/lecture/2338236?start=0)\n",
    "* Curso CS109 Harvard: [Harvard](http://cs109.github.io/2015)"
   ]
  },
  {
   "cell_type": "markdown",
   "metadata": {},
   "source": [
    "# Regressão"
   ]
  },
  {
   "cell_type": "markdown",
   "metadata": {},
   "source": [
    "***\n",
    "\n",
    "***\n",
    "<div class=\"span5 alert alert-info\">\n",
    "\n",
    "<p> Fornecidos $X$ and $Y$, o objetivo da regressão linear é: </p>\n",
    "<ul>\n",
    "  <li> Criar um <b>modelo preditivo</b> para predizer o $Y$ a partir de $X_i$ futuros </li>\n",
    "  <li> Modelar a <b>importancia</b> entre cada variável dependente $X_i$ e $Y$</li>\n",
    "    <ul>\n",
    "      <li> Nem todos os $X_i$ tem relação com $Y$</li>\n",
    "      <li> Quais $X_i$ que mais contribuem para determinar $Y$? </li>\n",
    "    </ul>\n",
    "</ul>\n",
    "</div>\n",
    "\n",
    "### recap\n",
    "***\n",
    "\n",
    "[Regressão Linear](http://en.wikipedia.org/wiki/Linear_regression) é um metodo para modelar a relação entre um conjunto de variaveis independentes $X$ (explanatórias, features, preditores) e uma variável dependente $Y$.  Esse metodo assume que $X$ tem uma relação linear com $Y$.  \n",
    "\n",
    "$$ Y = \\beta_0 + \\beta_1 X + \\epsilon$$\n",
    "\n",
    "one $\\epsilon$ refere-se a um erro. \n",
    "\n",
    "* $\\beta_0$ é a intercepto do modelo\n",
    "\n",
    "* Regressão Linear Multipla é quando há mais de uma variavel independente\n",
    "    * $X_1$, $X_2$, $X_3$, $\\ldots$\n",
    "\n",
    "$$ Y = \\beta_0 + \\beta_1 X_1 + \\ldots + \\beta_p X_p + \\epsilon$$ \n",
    "\n",
    "* O objetivo será estimar os coeficientes (e.g. $\\beta_0$ and $\\beta_1$). Representamos as estimativas com o \"chapeu\" ao topo da letra. \n",
    "\n",
    "$$ \\hat{\\beta}_0, \\hat{\\beta}_1 $$\n",
    "\n",
    "* Uma vez obtido a estimativa dos coeficientes $\\hat{\\beta}_0$ and $\\hat{\\beta}_1$, podemos usar para predizer novos valores de $Y$\n",
    "\n",
    "$$\\hat{y} = \\hat{\\beta}_0 + \\hat{\\beta}_1 x_1$$"
   ]
  },
  {
   "cell_type": "code",
   "execution_count": null,
   "metadata": {
    "collapsed": true
   },
   "outputs": [],
   "source": [
    "import numpy as np\n",
    "import pandas as pd\n",
    "from pandas import Series,DataFrame"
   ]
  },
  {
   "cell_type": "code",
   "execution_count": null,
   "metadata": {
    "collapsed": true
   },
   "outputs": [],
   "source": [
    "import matplotlib.pyplot as plt\n",
    "import seaborn as sns\n",
    "sns.set_style('whitegrid')\n",
    "%matplotlib inline"
   ]
  },
  {
   "cell_type": "code",
   "execution_count": null,
   "metadata": {},
   "outputs": [],
   "source": [
    "from sklearn.datasets import load_boston\n",
    "from sklearn.linear_model import LinearRegression\n",
    "# from sklearn.cross_validation import train_test_split\n",
    "from sklearn.model_selection import train_test_split"
   ]
  },
  {
   "cell_type": "markdown",
   "metadata": {},
   "source": [
    "#### Importando o dataset:"
   ]
  },
  {
   "cell_type": "code",
   "execution_count": null,
   "metadata": {
    "collapsed": true
   },
   "outputs": [],
   "source": [
    "boston = load_boston()"
   ]
  },
  {
   "cell_type": "code",
   "execution_count": null,
   "metadata": {},
   "outputs": [],
   "source": [
    "print(boston.DESCR)"
   ]
  },
  {
   "cell_type": "markdown",
   "metadata": {},
   "source": [
    "#### Carregando o dataframe"
   ]
  },
  {
   "cell_type": "code",
   "execution_count": null,
   "metadata": {
    "collapsed": true
   },
   "outputs": [],
   "source": [
    "# carregando o df\n",
    "boston_df = pd.DataFrame(boston.data)\n",
    "\n",
    "# nome das colunas\n",
    "boston_df.columns = boston.feature_names"
   ]
  },
  {
   "cell_type": "markdown",
   "metadata": {},
   "source": [
    "#### Explorando o dataframe"
   ]
  },
  {
   "cell_type": "code",
   "execution_count": null,
   "metadata": {},
   "outputs": [],
   "source": [
    "boston_df.head()"
   ]
  },
  {
   "cell_type": "code",
   "execution_count": null,
   "metadata": {},
   "outputs": [],
   "source": [
    "boston_df.plot(kind='scatter', x = 'RM', y = 'AGE')"
   ]
  },
  {
   "cell_type": "code",
   "execution_count": null,
   "metadata": {},
   "outputs": [],
   "source": [
    "sns.jointplot(data=boston_df, x = 'RM', y = 'AGE', kind = 'hex')"
   ]
  },
  {
   "cell_type": "code",
   "execution_count": null,
   "metadata": {},
   "outputs": [],
   "source": [
    "sns.jointplot(data=boston_df, x = 'RM', y = 'AGE', kind = 'kde')"
   ]
  },
  {
   "cell_type": "code",
   "execution_count": null,
   "metadata": {
    "collapsed": true
   },
   "outputs": [],
   "source": [
    "# introduzindo a coluna de precos\n",
    "boston_df['Preco'] = boston.target"
   ]
  },
  {
   "cell_type": "code",
   "execution_count": null,
   "metadata": {},
   "outputs": [],
   "source": [
    "boston_df.head()"
   ]
  },
  {
   "cell_type": "code",
   "execution_count": null,
   "metadata": {},
   "outputs": [],
   "source": [
    "# Histograma dos preços (alvo da predição)\n",
    "plt.hist(boston_df['Preco'],bins=50)\n",
    "\n",
    "# Nome dos eixos\n",
    "plt.xlabel('Precos in $1000s')\n",
    "plt.ylabel('Numero de towns')"
   ]
  },
  {
   "cell_type": "code",
   "execution_count": null,
   "metadata": {
    "collapsed": true
   },
   "outputs": [],
   "source": [
    "boston_df_sample = boston_df.sample(frac = 0.1)"
   ]
  },
  {
   "cell_type": "code",
   "execution_count": null,
   "metadata": {},
   "outputs": [],
   "source": [
    "# Plotando a coluna #5 (RM)\n",
    "# plt.scatter(boston_df['RM'], boston_df['Preco'])\n",
    "\n",
    "sns.jointplot(data = boston_df, x = 'RM', y = 'Preco', kind = 'hex')\n",
    "\n",
    "#label\n",
    "plt.ylabel('Precos em $1000s')\n",
    "plt.xlabel('Media da qtd de comodos por habitacao')"
   ]
  },
  {
   "cell_type": "markdown",
   "metadata": {},
   "source": [
    "### Problema de negócio: Quero predizer o preço."
   ]
  },
  {
   "cell_type": "markdown",
   "metadata": {},
   "source": [
    "#### Se eu tivesse somente uma feature...\n",
    "(e usando scipy)"
   ]
  },
  {
   "cell_type": "code",
   "execution_count": null,
   "metadata": {},
   "outputs": [],
   "source": [
    "# como seria...\n",
    "sns.lmplot('RM', 'Preco', data=boston_df, fit_reg=True)"
   ]
  },
  {
   "cell_type": "code",
   "execution_count": null,
   "metadata": {},
   "outputs": [],
   "source": [
    "# Tentem isso tambem...\n",
    "# sns.jointplot('RM', 'Preco', data=boston_df, kind = 'reg')"
   ]
  },
  {
   "cell_type": "markdown",
   "metadata": {},
   "source": [
    "#### Objetivo: encontrar os \"melhores\" $a$ e $b$ \n",
    "\n",
    "$y = a.x + b$\n",
    "\n",
    "onde\n",
    "\n",
    "* $y$ : preço\n",
    "* $x$ : qtd média de quartos"
   ]
  },
  {
   "cell_type": "code",
   "execution_count": null,
   "metadata": {},
   "outputs": [],
   "source": [
    "from scipy import stats\n",
    "import numpy as np\n",
    "X = boston_df.RM\n",
    "y = boston_df.Preco\n",
    "a, b, r_value, p_value, std_err = stats.linregress(X,y)\n",
    "\n",
    "inclinacao, intercepto = a, b  # "
   ]
  },
  {
   "cell_type": "code",
   "execution_count": null,
   "metadata": {},
   "outputs": [],
   "source": [
    "print (inclinacao)\n",
    "print (intercepto)"
   ]
  },
  {
   "cell_type": "code",
   "execution_count": null,
   "metadata": {
    "collapsed": true
   },
   "outputs": [],
   "source": [
    "quartos = np.array(X)\n",
    "precos = np.array(y)\n",
    "\n",
    "pred = a * quartos + b \n"
   ]
  },
  {
   "cell_type": "code",
   "execution_count": null,
   "metadata": {},
   "outputs": [],
   "source": [
    "# RMSE\n",
    "rmse = np.sqrt(np.mean((pred - precos) ** 2))\n",
    "print ('RMSE =', rmse)"
   ]
  },
  {
   "cell_type": "code",
   "execution_count": null,
   "metadata": {
    "collapsed": true
   },
   "outputs": [],
   "source": []
  },
  {
   "cell_type": "markdown",
   "metadata": {},
   "source": [
    "Uma interpretação do RMSE"
   ]
  },
  {
   "cell_type": "code",
   "execution_count": null,
   "metadata": {},
   "outputs": [],
   "source": [
    "r = 6\n",
    "p = a * r + b\n",
    "\n",
    "print ('Para uma cidade (town) cuja media de comodos é', r, 'comodos...')\n",
    "print ('o preço previsto será %.2f, e ...'% p)\n",
    "print ('... em 68%% das observações, o preco fica entre %.2f e %.2f.' % (p - rmse, p + rmse))\n",
    "print ('... em 95%% das observações, o preco fica entre %.2f e %.2f.' % (p - 2*rmse, p + 2*rmse))"
   ]
  },
  {
   "cell_type": "markdown",
   "metadata": {},
   "source": [
    "#### Como encontrar os \"melhores\" $a$ e $b$?\n",
    "** => Metodo dos minimos quadrados **\n",
    "\n",
    "In English: Least Squares Method.<br>\n",
    "Como seaborn encontra a linha acima?"
   ]
  },
  {
   "cell_type": "code",
   "execution_count": null,
   "metadata": {},
   "outputs": [],
   "source": [
    "from IPython.display import Image\n",
    "url = 'http://upload.wikimedia.org/wikipedia/commons/thumb/b/b0/Linear_least_squares_example2.svg/220px-Linear_least_squares_example2.svg.png'\n",
    "Image(url)"
   ]
  },
  {
   "cell_type": "markdown",
   "metadata": {},
   "source": [
    "Pergunta: qual a melhor linha azul que representa o conjunto de pontos vermelhos? <br>\n",
    "Resposta: a que minimiza a soma dos quadrados das linhas verdes (o erro)"
   ]
  },
  {
   "cell_type": "markdown",
   "metadata": {},
   "source": [
    "\\begin{equation*}\n",
    "MSE\\quad = \\frac { 1 }{ n } \\sum _{ i=0 }^{ n-1 }{ { { (\\hat { { y }^{ (i) } }  } }-{ y }^{ (i) })^{ 2 } }   \\quad \n",
    "\\end{equation*}"
   ]
  },
  {
   "cell_type": "markdown",
   "metadata": {},
   "source": [
    "\\begin{equation*}\n",
    "RMSE\\quad = \\sqrt { \\frac { 1 }{ n } \\sum _{ i\\quad =\\quad 0 }^{ n-1 }{ { { (\\hat { { y }^{ (i) } }  } }-{ y }^{ (i) })^{ 2 } }   } \\quad  \n",
    "\\end{equation*}"
   ]
  },
  {
   "cell_type": "markdown",
   "metadata": {},
   "source": [
    "#### agora com multiplas variáveis"
   ]
  },
  {
   "cell_type": "code",
   "execution_count": null,
   "metadata": {},
   "outputs": [],
   "source": [
    "# primeira observação:\n",
    "boston_df.iloc[0]"
   ]
  },
  {
   "cell_type": "markdown",
   "metadata": {},
   "source": [
    "Notação:\n",
    "\n",
    "$x^{(0)}_{CRIM} = 0.00632$\n",
    "\n",
    "$x^{(0)}_{ZN} = 18.00000$\n",
    "\n",
    "$x^{(0)}_{LSTAT} = 4.98$\n",
    "\n",
    "$y^{(0)} = 24$"
   ]
  },
  {
   "cell_type": "markdown",
   "metadata": {},
   "source": [
    "A principal \"jogada\" da regressão linear é considerar que cada feature contribui linearmente na composição do preço:\n",
    "\n",
    "$a_{CRIM}.x^{(i)}_{CRIM} + a_{ZN}.x^{(i)}_{ZN} + ... + a_{LSTAT}.x^{(i)}_{LSTAT} + b = y^{(i)}$, <br>\n",
    "\n",
    "para $i = 0, 1, 2,..., n-1$ \n",
    "\n",
    "e o objetivo será encontrar $a_{CRIM}, a_{ZN}, ...,a_{LSTAT}, b$ que minimizam o erro \n",
    "\n",
    "Numa forma matricial, podemos re-escrever o problema da seguinte maneira:\n",
    "\n",
    "\n",
    "\\begin{equation*}\n",
    "\\mathbf{X}.\\mathbf{a} = \\mathbf{y}\n",
    "\\end{equation*}\n",
    "\n",
    "<br>\n",
    "\n",
    "\n",
    "\\begin{equation*}\n",
    "\\mathbf{X} =  \\begin{bmatrix}\n",
    "x^{(0)}_{CRIM} & x^{(0)}_{ZN} & ... & x^{(0)}_{LSTAT} & 1 \\\\\n",
    "x^{(1)}_{CRIM} & x^{(1)}_{ZN} & ... & x^{(1)}_{LSTAT} & 1 \\\\\n",
    "... & ... & ... & ...\\\\\n",
    "x^{(n-1)}_{CRIM} & x^{(n-1)}_{ZN} & ... & x^{(n-1)}_{LSTAT} & 1 \\\\\n",
    "\\end{bmatrix}\n",
    "\\end{equation*}\n",
    "\n",
    "<br>\n",
    "\n",
    "\\begin{equation*}\n",
    "\\mathbf{a} =  \\begin{bmatrix}\n",
    "a_{CRIM} \\\\\n",
    "a_{ZN} \\\\\n",
    "... \\\\\n",
    "a_{LSTAT}\\\\\n",
    "b \\\\\n",
    "\\end{bmatrix}\n",
    "\\end{equation*}\n",
    "\n",
    "<br>\n",
    "\n",
    "\\begin{equation*}\n",
    "\\mathbf{y} =  \\begin{bmatrix}\n",
    "y^{(0)} \\\\\n",
    "y^{(1} \\\\\n",
    "... \\\\\n",
    "y^{(n-1)}\\\\\n",
    "\\end{bmatrix}\n",
    "\\end{equation*}"
   ]
  },
  {
   "cell_type": "code",
   "execution_count": null,
   "metadata": {
    "collapsed": true
   },
   "outputs": [],
   "source": []
  },
  {
   "cell_type": "markdown",
   "metadata": {},
   "source": [
    "#### Engenharia e seleção de features... "
   ]
  },
  {
   "cell_type": "code",
   "execution_count": null,
   "metadata": {},
   "outputs": [],
   "source": [
    "sns.pairplot(data=boston_df.iloc[:,:4])"
   ]
  },
  {
   "cell_type": "code",
   "execution_count": null,
   "metadata": {},
   "outputs": [],
   "source": [
    "boston_df.columns"
   ]
  },
  {
   "cell_type": "code",
   "execution_count": null,
   "metadata": {
    "collapsed": true
   },
   "outputs": [],
   "source": []
  },
  {
   "cell_type": "markdown",
   "metadata": {},
   "source": [
    "### treinamento e predição com sklearn começam aqui..."
   ]
  },
  {
   "cell_type": "code",
   "execution_count": null,
   "metadata": {
    "collapsed": true
   },
   "outputs": [],
   "source": [
    "# Regressão linear - sklearn\n",
    "import sklearn\n",
    "from sklearn.linear_model import LinearRegression"
   ]
  },
  {
   "cell_type": "code",
   "execution_count": null,
   "metadata": {
    "collapsed": true
   },
   "outputs": [],
   "source": [
    "lreg = LinearRegression()"
   ]
  },
  {
   "cell_type": "markdown",
   "metadata": {},
   "source": [
    "Funções utilizadas:\n",
    "\n",
    "* `lreg.fit()` : para treinar o modelo\n",
    "\n",
    "* `lreg.predict()` : predição do valor, segundo um modelo treinado\n",
    "\n",
    "* `lreg.score()` : retorna o coeficiente de determinação (R^2), uma medida de quão bem o modelo captura as observações. "
   ]
  },
  {
   "cell_type": "code",
   "execution_count": null,
   "metadata": {},
   "outputs": [],
   "source": [
    "# Separando as matrizes X (features) e y (labels)\n",
    "\n",
    "X = boston_df.drop('Preco', axis = 1)\n",
    "y = boston_df.Preco"
   ]
  },
  {
   "cell_type": "code",
   "execution_count": null,
   "metadata": {},
   "outputs": [],
   "source": [
    "lreg.fit(X, y)"
   ]
  },
  {
   "cell_type": "code",
   "execution_count": null,
   "metadata": {},
   "outputs": [],
   "source": [
    "print ('Valor do coeficiente b tambem chamado de intercept:', lreg.intercept_)"
   ]
  },
  {
   "cell_type": "code",
   "execution_count": null,
   "metadata": {},
   "outputs": [],
   "source": [
    "# Vamos agora ver os coeficientes:\n",
    "coeff_df = DataFrame(boston_df.columns)\n",
    "coeff_df.columns = ['Features']\n",
    "\n",
    "# coluna com os coeficientes\n",
    "coeff_df[\"Estimativa dos coeficientes\"] = pd.Series(lreg.coef_)\n",
    "\n",
    "# mostra coeficientes\n",
    "coeff_df"
   ]
  },
  {
   "cell_type": "code",
   "execution_count": null,
   "metadata": {},
   "outputs": [],
   "source": [
    "coeff_df.set_index('Features').plot(kind = 'bar', figsize = (12, 8))"
   ]
  },
  {
   "cell_type": "code",
   "execution_count": null,
   "metadata": {},
   "outputs": [],
   "source": [
    "# calibrando os coeficientes pelo valor medio da variavel\n",
    "\n",
    "coeff_df.set_index('Features', inplace = True)\n",
    "\n",
    "coeff_df = pd.concat([coeff_df, boston_df.mean()], axis = 1).rename(columns = {0: 'media'})\n",
    "\n",
    "coeff_df['coef_vezes_media'] = coeff_df['Estimativa dos coeficientes'] * coeff_df.media\n",
    "\n",
    "coeff_df.coef_vezes_media.plot(kind = 'bar', figsize = (12, 8))"
   ]
  },
  {
   "cell_type": "code",
   "execution_count": null,
   "metadata": {},
   "outputs": [],
   "source": [
    "print(\"Treinei com X: RMSE com y: %.2f\"  \n",
    "      % np.sqrt(np.mean((y - lreg.predict(X)) ** 2)))"
   ]
  },
  {
   "cell_type": "code",
   "execution_count": null,
   "metadata": {
    "collapsed": true
   },
   "outputs": [],
   "source": []
  },
  {
   "cell_type": "markdown",
   "metadata": {},
   "source": [
    "## Treinamento e Validação"
   ]
  },
  {
   "cell_type": "markdown",
   "metadata": {},
   "source": [
    "### Objetivo de separar os dados em treinamento e teste\n",
    "***\n",
    "<div class=\"span5 alert alert-info\">\n",
    "\n",
    "<p> No exemplo acima: </p>\n",
    "<ul>\n",
    "  <li> Treinamos e testamos na mesma base </li>\n",
    "  <li> É esperado que as predições sobre essa base sejam bons, mas e quanto a novos dados? </li>\n",
    "    <ul>\n",
    "      <li> sim novos dados</li>\n",
    "    </ul>\n",
    "  <li> Um solução seria repartir dados, reservando uma parte para <b>teste</b> e <b>treinando</b> o modelo no restante </li>\n",
    "  <li> isso se chama validação cruzada </li>  \n",
    "</ul>\n",
    "</div>\n",
    "\n",
    "***"
   ]
  },
  {
   "cell_type": "code",
   "execution_count": null,
   "metadata": {},
   "outputs": [],
   "source": [
    "# Repartindo o dados em treinamento e validação\n",
    "X_train, X_valid, y_train, y_valid = train_test_split(X,boston_df.Preco)"
   ]
  },
  {
   "cell_type": "code",
   "execution_count": null,
   "metadata": {},
   "outputs": [],
   "source": [
    "# quais são os shapes de cada parte\n",
    "print(X_train.shape, X_valid.shape, y_train.shape, y_valid.shape)"
   ]
  },
  {
   "cell_type": "markdown",
   "metadata": {},
   "source": [
    "#### Predição de preços"
   ]
  },
  {
   "cell_type": "code",
   "execution_count": null,
   "metadata": {},
   "outputs": [],
   "source": [
    "# recriando o objeto \n",
    "lreg = LinearRegression()\n",
    "\n",
    "# treinando de novo, mas somente com os dados de treinamento\n",
    "lreg.fit(X_train,y_train)"
   ]
  },
  {
   "cell_type": "code",
   "execution_count": null,
   "metadata": {
    "collapsed": true
   },
   "outputs": [],
   "source": [
    "# Predição das observações de validação\n",
    "pred_train = lreg.predict(X_train)\n",
    "pred_valid = lreg.predict(X_valid)"
   ]
  },
  {
   "cell_type": "code",
   "execution_count": null,
   "metadata": {},
   "outputs": [],
   "source": [
    "print(\"Treinei com X_train: RMSE com y_train: %.2f\"  \n",
    "      % np.sqrt(np.mean((y_train - pred_train) ** 2)))\n",
    "    \n",
    "print(\"Treinei com X_train, RMSE sobre X_valid e y_valid: %.2f\"  \n",
    "      % np.sqrt( np.mean((y_valid - pred_valid) ** 2)) )"
   ]
  },
  {
   "cell_type": "code",
   "execution_count": null,
   "metadata": {},
   "outputs": [],
   "source": [
    "# R^2 desse fit\n",
    "lreg.score(X_valid, y_valid)"
   ]
  },
  {
   "cell_type": "code",
   "execution_count": null,
   "metadata": {
    "collapsed": true
   },
   "outputs": [],
   "source": []
  },
  {
   "cell_type": "markdown",
   "metadata": {},
   "source": [
    "## Conseguiriamos prever 'atividade por semana'?\n",
    "\n",
    "a partir de altura, peso, time e IMC??"
   ]
  },
  {
   "cell_type": "code",
   "execution_count": null,
   "metadata": {},
   "outputs": [],
   "source": [
    "import pandas as pd\n",
    "import numpy as np\n",
    "\n",
    "df = pd.read_csv('alunos2017.csv')\n",
    "\n",
    "df['IMC'] = df.Peso/((df.Altura/100) ** 2)"
   ]
  },
  {
   "cell_type": "code",
   "execution_count": null,
   "metadata": {},
   "outputs": [],
   "source": [
    "df.head()"
   ]
  },
  {
   "cell_type": "code",
   "execution_count": null,
   "metadata": {
    "collapsed": true
   },
   "outputs": [],
   "source": [
    "# del df['Time']"
   ]
  },
  {
   "cell_type": "code",
   "execution_count": null,
   "metadata": {},
   "outputs": [],
   "source": [
    "df['Time'].fillna('ND', inplace=True)"
   ]
  },
  {
   "cell_type": "code",
   "execution_count": null,
   "metadata": {},
   "outputs": [],
   "source": [
    "df.columns"
   ]
  },
  {
   "cell_type": "code",
   "execution_count": null,
   "metadata": {},
   "outputs": [],
   "source": [
    "# X, y = df[[u'Altura', u'Peso', u'IMC', u'Time']], df[u'Atividade_por_semana']\n",
    "X, y = df[[u'Altura', u'Peso', u'IMC']], df[u'Atividade_por_semana']"
   ]
  },
  {
   "cell_type": "code",
   "execution_count": null,
   "metadata": {},
   "outputs": [],
   "source": [
    "# X = pd.get_dummies(X, columns = ['Time'], drop_first=True)"
   ]
  },
  {
   "cell_type": "code",
   "execution_count": null,
   "metadata": {},
   "outputs": [],
   "source": [
    "from sklearn.cross_validation import train_test_split\n",
    "from sklearn.linear_model import LinearRegression"
   ]
  },
  {
   "cell_type": "code",
   "execution_count": null,
   "metadata": {
    "collapsed": true
   },
   "outputs": [],
   "source": [
    "X_train, X_valid, y_train, y_valid = train_test_split(X, y)"
   ]
  },
  {
   "cell_type": "code",
   "execution_count": null,
   "metadata": {
    "collapsed": true
   },
   "outputs": [],
   "source": [
    "lreg = LinearRegression()"
   ]
  },
  {
   "cell_type": "code",
   "execution_count": null,
   "metadata": {},
   "outputs": [],
   "source": [
    "lreg.fit(X_train, y_train)"
   ]
  },
  {
   "cell_type": "code",
   "execution_count": null,
   "metadata": {},
   "outputs": [],
   "source": [
    "pred = pd.Series(lreg.predict(X_valid), index = y_valid.index)\n",
    "pred"
   ]
  },
  {
   "cell_type": "code",
   "execution_count": null,
   "metadata": {},
   "outputs": [],
   "source": [
    "res_valid = pd.concat([pred, y_valid], axis = 1)"
   ]
  },
  {
   "cell_type": "code",
   "execution_count": null,
   "metadata": {},
   "outputs": [],
   "source": [
    "res_valid.columns = ['pred', 'gold']"
   ]
  },
  {
   "cell_type": "code",
   "execution_count": null,
   "metadata": {},
   "outputs": [],
   "source": [
    "res_valid"
   ]
  },
  {
   "cell_type": "code",
   "execution_count": null,
   "metadata": {},
   "outputs": [],
   "source": [
    "res_valid['erro'] = (res_valid.pred - res_valid.gold) ** 2"
   ]
  },
  {
   "cell_type": "code",
   "execution_count": null,
   "metadata": {},
   "outputs": [],
   "source": [
    "res_valid"
   ]
  },
  {
   "cell_type": "code",
   "execution_count": null,
   "metadata": {},
   "outputs": [],
   "source": [
    "mse = np.mean(res_valid.erro)\n",
    "print ('MSE =', mse)\n",
    "print ('RMSE =', np.sqrt(mse))"
   ]
  },
  {
   "cell_type": "code",
   "execution_count": null,
   "metadata": {},
   "outputs": [],
   "source": [
    "X.head()"
   ]
  },
  {
   "cell_type": "code",
   "execution_count": null,
   "metadata": {},
   "outputs": [],
   "source": [
    "lreg.predict([[176, 80, 80.0/(1.76*1.76)]])"
   ]
  },
  {
   "cell_type": "code",
   "execution_count": null,
   "metadata": {},
   "outputs": [],
   "source": [
    "lreg.score(X_valid, y_valid)"
   ]
  },
  {
   "cell_type": "code",
   "execution_count": null,
   "metadata": {
    "collapsed": true
   },
   "outputs": [],
   "source": []
  }
 ],
 "metadata": {
  "kernelspec": {
   "display_name": "Python 3",
   "language": "python",
   "name": "python3"
  },
  "language_info": {
   "codemirror_mode": {
    "name": "ipython",
    "version": 3
   },
   "file_extension": ".py",
   "mimetype": "text/x-python",
   "name": "python",
   "nbconvert_exporter": "python",
   "pygments_lexer": "ipython3",
   "version": "3.6.4"
  },
  "toc": {
   "colors": {
    "hover_highlight": "#DAA520",
    "navigate_num": "#000000",
    "navigate_text": "#333333",
    "running_highlight": "#FF0000",
    "selected_highlight": "#FFD700",
    "sidebar_border": "#EEEEEE",
    "wrapper_background": "#FFFFFF"
   },
   "moveMenuLeft": true,
   "nav_menu": {
    "height": "258px",
    "width": "253px"
   },
   "navigate_menu": true,
   "number_sections": false,
   "sideBar": true,
   "threshold": 4,
   "toc_cell": false,
   "toc_section_display": "block",
   "toc_window_display": false,
   "widenNotebook": false
  }
 },
 "nbformat": 4,
 "nbformat_minor": 1
}
